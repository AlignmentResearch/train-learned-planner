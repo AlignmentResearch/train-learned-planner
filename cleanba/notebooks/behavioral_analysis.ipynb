{
 "cells": [
  {
   "cell_type": "code",
   "execution_count": 12,
   "metadata": {},
   "outputs": [],
   "source": [
    "import dataclasses\n",
    "import json\n",
    "import os\n",
    "import pathlib\n",
    "import pickle\n",
    "from functools import partial\n",
    "\n",
    "import farconf\n",
    "import flax\n",
    "import jax\n",
    "import jax.numpy as jnp\n",
    "import matplotlib\n",
    "import matplotlib.animation as animation\n",
    "import matplotlib.ticker as ticker\n",
    "import numpy as np\n",
    "import wandb\n",
    "from flax.training.train_state import TrainState\n",
    "from matplotlib import pyplot as plt\n",
    "\n",
    "from cleanba.cleanba_impala import make_optimizer, unreplicate\n",
    "from cleanba.config import Args\n",
    "from cleanba.environments import BoxobanConfig, EnvConfig\n",
    "from cleanba.network import Policy\n",
    "\n",
    "wandb.init(mode=\"disabled\")\n",
    "\n",
    "plots_dir = pathlib.Path(\"plots/\")\n",
    "plots_dir.mkdir(exist_ok=True)\n",
    "\n",
    "style = {\n",
    "    \"font.family\": \"serif\",\n",
    "    \"font.serif\": \"Times New Roman\",\n",
    "    \"mathtext.fontset\": \"cm\",\n",
    "    \"font.size\": 10,\n",
    "    \"legend.fontsize\": 10,\n",
    "    \"axes.titlesize\": 10,\n",
    "    \"axes.labelsize\": 10,\n",
    "    \"xtick.labelsize\": 10,\n",
    "    \"ytick.labelsize\": 10,\n",
    "    \"figure.figsize\": (3.25, 2),\n",
    "    \"figure.constrained_layout.use\": True,\n",
    "\n",
    "}\n",
    "matplotlib.rcParams.update(style)\n"
   ]
  },
  {
   "cell_type": "code",
   "execution_count": 2,
   "metadata": {},
   "outputs": [],
   "source": [
    "@dataclasses.dataclass\n",
    "class EvalConfig:\n",
    "    env: EnvConfig\n",
    "    n_episode_multiple: int = 1\n",
    "    steps_to_think: list[int] = dataclasses.field(default_factory=lambda: [0])\n",
    "    temperature: float = 0.0\n",
    "\n",
    "    safeguard_max_episode_steps: int = 30000\n",
    "\n",
    "    def run(self, policy: Policy, get_action_fn, params, *, key: jnp.ndarray) -> dict[str, float]:\n",
    "        key, env_key, carry_key, obs_reset_key = jax.random.split(key, 4)\n",
    "        env_seed = int(jax.random.randint(env_key, (), minval=0, maxval=2**31 - 2))\n",
    "        envs = dataclasses.replace(self.env, seed=env_seed).make()\n",
    "        max_steps = min(self.safeguard_max_episode_steps, self.env.max_episode_steps)\n",
    "\n",
    "        episode_starts_no = jnp.zeros(envs.num_envs, dtype=jnp.bool_)\n",
    "\n",
    "        metrics = {}\n",
    "        try:\n",
    "            for steps_to_think in self.steps_to_think:\n",
    "                all_episode_returns = []\n",
    "                all_episode_lengths = []\n",
    "                all_episode_successes = []\n",
    "                all_obs = []\n",
    "                all_acts = []\n",
    "                all_rewards = []\n",
    "                all_level_infos = []\n",
    "                envs = dataclasses.replace(self.env, seed=env_seed).make()\n",
    "                reset_key = None\n",
    "                for _ in range(self.n_episode_multiple):\n",
    "                    reset_key, sub_reset_key = jax.random.split(obs_reset_key if reset_key is None else reset_key)\n",
    "                    reset_seed = int(jax.random.randint(sub_reset_key, (), minval=0, maxval=2**31 - 2))\n",
    "                    obs, level_infos = envs.reset(seed=reset_seed)\n",
    "                    # reset the carry here so we can use `episode_starts_no` later\n",
    "                    carry = policy.apply(params, carry_key, obs.shape, method=policy.initialize_carry)\n",
    "\n",
    "                    # Update the carry with the initial observation many times\n",
    "                    for think_step in range(steps_to_think):\n",
    "                        carry, _, _, key = get_action_fn(\n",
    "                            params, carry, obs, episode_starts_no, key, temperature=self.temperature\n",
    "                        )\n",
    "\n",
    "                    eps_done = np.zeros(envs.num_envs, dtype=np.bool_)\n",
    "                    episode_success = np.zeros(envs.num_envs, dtype=np.bool_)\n",
    "                    episode_returns = np.zeros(envs.num_envs, dtype=np.float64)\n",
    "                    episode_lengths = np.zeros(envs.num_envs, dtype=np.int64)\n",
    "                    episode_obs = np.zeros((max_steps+1, *obs.shape), dtype=np.int64)\n",
    "                    episode_acts = np.zeros((max_steps, envs.num_envs), dtype=np.int64)\n",
    "                    episode_rewards = np.zeros((max_steps, envs.num_envs), dtype=np.float64)\n",
    "                    \n",
    "                    episode_obs[0] = obs\n",
    "                    i = 0\n",
    "                    while not np.all(eps_done):\n",
    "                        if i >= self.safeguard_max_episode_steps:\n",
    "                            break\n",
    "                        carry, action, _, key = get_action_fn(\n",
    "                            params, carry, obs, episode_starts_no, key, temperature=self.temperature\n",
    "                        )\n",
    "\n",
    "                        cpu_action = np.asarray(action)\n",
    "                        obs, rewards, terminated, truncated, infos = envs.step(cpu_action)\n",
    "                        episode_returns[~eps_done] += rewards[~eps_done]\n",
    "                        episode_lengths[~eps_done] += 1\n",
    "                        episode_success[~eps_done] |= terminated[~eps_done]  # If episode terminates it's a success\n",
    "\n",
    "                        episode_obs[i+1, ~eps_done] = obs[~eps_done]\n",
    "                        episode_acts[i, ~eps_done] = cpu_action[~eps_done]\n",
    "                        episode_rewards[i, ~eps_done] = rewards[~eps_done]\n",
    "\n",
    "                        # Set as done the episodes which are done\n",
    "                        eps_done |= truncated | terminated\n",
    "                        i += 1\n",
    "\n",
    "                    all_episode_returns.append(episode_returns)\n",
    "                    all_episode_lengths.append(episode_lengths)\n",
    "                    all_episode_successes.append(episode_success)\n",
    "\n",
    "                    all_obs += [episode_obs[:episode_lengths[i], i] for i in range(envs.num_envs)]\n",
    "                    all_acts += [episode_acts[:episode_lengths[i], i] for i in range(envs.num_envs)]\n",
    "                    all_rewards += [episode_rewards[:episode_lengths[i], i] for i in range(envs.num_envs)]\n",
    "\n",
    "                    all_level_infos.append(level_infos)\n",
    "\n",
    "                all_episode_returns = np.concatenate(all_episode_returns)\n",
    "                all_episode_lengths = np.concatenate(all_episode_lengths)\n",
    "                all_episode_successes = np.concatenate(all_episode_successes)\n",
    "                all_level_infos = {k: np.concatenate([d[k] for d in all_level_infos])\n",
    "                                    for k in all_level_infos[0].keys() if not k.startswith(\"_\")}\n",
    "\n",
    "                metrics.update(\n",
    "                    {\n",
    "                        f\"{steps_to_think:02d}_episode_returns\": float(np.mean(all_episode_returns)),\n",
    "                        f\"{steps_to_think:02d}_episode_lengths\": float(np.mean(all_episode_lengths)),\n",
    "                        f\"{steps_to_think:02d}_episode_successes\": float(np.mean(all_episode_successes)),\n",
    "                        f\"{steps_to_think:02d}_num_episodes\": len(all_episode_returns),\n",
    "                        f\"{steps_to_think:02d}_all_episode_info\": dict(\n",
    "                            episode_returns=all_episode_returns,\n",
    "                            episode_lengths=all_episode_lengths,\n",
    "                            episode_successes=all_episode_successes,\n",
    "                            episode_obs=all_obs,\n",
    "                            episode_acts=all_acts,\n",
    "                            episode_rewards=all_rewards,\n",
    "                            level_infos=all_level_infos,\n",
    "                        ),\n",
    "                    }\n",
    "                )\n",
    "        finally:\n",
    "            envs.close()\n",
    "        return metrics\n",
    "\n",
    "def save_level_video(level_idx, base_dir=\"./\", force=False):\n",
    "    base_dir = pathlib.Path(base_dir)\n",
    "    base_dir.mkdir(parents=True, exist_ok=True)\n",
    "    file_path = base_dir / f'{level_idx}.mp4'\n",
    "    if file_path.exists() and not force:\n",
    "        return\n",
    "    obs_baseline = np.moveaxis(val_all_episode_info[baseline_steps][\"episode_obs\"][level_idx], 1, 3)\n",
    "    obs_best = np.moveaxis(val_all_episode_info[best_steps][\"episode_obs\"][level_idx], 1, 3)\n",
    "    num_obs_baseline = len(obs_baseline)\n",
    "    num_obs_best = len(obs_best)\n",
    "    max_obs = max(num_obs_baseline, num_obs_best)\n",
    "    fig, axs = plt.subplots(1, 2)\n",
    "    ax1, ax2 = axs\n",
    "    ax1.set_title(f\"{steps_to_think[baseline_steps]} think steps\")\n",
    "    ax2.set_title(f\"{steps_to_think[best_steps]} think steps\")\n",
    "    im1 = ax1.imshow(obs_baseline[0])\n",
    "    im2 = ax2.imshow(obs_best[0])\n",
    "    title = fig.suptitle(f\"Level {level_idx}: Step 0\")\n",
    "\n",
    "    def update_frame(j):\n",
    "        baseline_img = obs_baseline[min(len(obs_baseline)-1, j)]\n",
    "        # ax1.imshow(baseline_img)\n",
    "        im1.set(data=baseline_img)\n",
    "        best_img = obs_best[min(len(obs_best)-1, j)]\n",
    "        # ax2.imshow(best_img)\n",
    "        im2.set(data=best_img)\n",
    "        title.set_text(f\"Level {level_idx}: Step {j}\")\n",
    "        return (im1, im2, title)\n",
    "        \n",
    "\n",
    "    anim = animation.FuncAnimation(\n",
    "        fig,\n",
    "        update_frame,  # type: ignore\n",
    "        frames=max_obs,\n",
    "        interval=1,\n",
    "        repeat=False,\n",
    "    )\n",
    "    plt.tight_layout()\n",
    "    anim.save(file_path, fps=3)\n",
    "    print(f\"Level {level_idx} saved\")\n",
    "\n",
    "\n",
    "def load_train_state(dir: pathlib.Path, env):\n",
    "    with open(dir / \"cfg.json\", \"r\") as f:\n",
    "        args_dict = json.load(f)\n",
    "    args = farconf.from_dict(args_dict, Args)\n",
    "\n",
    "    _, _, params = args.net.init_params(env, jax.random.PRNGKey(1234))\n",
    "\n",
    "    local_batch_size = int(args.local_num_envs * args.num_steps * args.num_actor_threads * len(args.actor_device_ids))\n",
    "\n",
    "    target_state = TrainState.create(\n",
    "        apply_fn=None,\n",
    "        params=params,\n",
    "        tx=make_optimizer(args, params, total_updates=args.total_timesteps // local_batch_size),\n",
    "    )\n",
    "\n",
    "    with open(dir / \"model\", \"rb\") as f:\n",
    "        train_state = flax.serialization.from_bytes(target_state, f.read())\n",
    "    assert isinstance(train_state, TrainState)\n",
    "    train_state = unreplicate(train_state)\n",
    "    for i in range(args.net.n_recurrent):\n",
    "        train_state.params[\"params\"][\"network_params\"][f\"cell_list_{i}\"][\"fence\"][\"kernel\"] = np.sum(\n",
    "            train_state.params[\"params\"][\"network_params\"][f\"cell_list_{i}\"][\"fence\"][\"kernel\"],\n",
    "            axis=2,\n",
    "            keepdims=True,\n",
    "        )\n",
    "    return args, train_state\n"
   ]
  },
  {
   "cell_type": "code",
   "execution_count": 3,
   "metadata": {},
   "outputs": [],
   "source": [
    "steps_to_think=[0, 2, 4, 6, 8, 12, 16, 32]\n",
    "n_episode_multiple = 50\n",
    "num_envs = 100\n",
    "episode_steps = 120\n",
    "unfil = False\n",
    "if unfil:\n",
    "    unfil_env_cfg = EvalConfig(\n",
    "        BoxobanConfig(\n",
    "            split=\"test\",\n",
    "            difficulty=\"unfiltered\",\n",
    "            min_episode_steps=episode_steps,\n",
    "            max_episode_steps=episode_steps,\n",
    "            num_envs=num_envs,\n",
    "            tinyworld_obs=True,\n",
    "            seed=42,\n",
    "        ),\n",
    "        n_episode_multiple=n_episode_multiple,\n",
    "        steps_to_think=steps_to_think,\n",
    "\n",
    "    )\n",
    "\n",
    "val_med_env_cfg = EvalConfig(\n",
    "    BoxobanConfig(\n",
    "        split=\"valid\",\n",
    "        difficulty=\"medium\",\n",
    "        min_episode_steps=episode_steps,\n",
    "        max_episode_steps=episode_steps,\n",
    "        num_envs=num_envs,\n",
    "        tinyworld_obs=True,\n",
    "        seed=42,\n",
    "    ),\n",
    "    n_episode_multiple=n_episode_multiple,\n",
    "    steps_to_think=steps_to_think,\n",
    ")"
   ]
  },
  {
   "cell_type": "code",
   "execution_count": 4,
   "metadata": {},
   "outputs": [
    {
     "data": {
      "text/plain": [
       "EvalConfig(env=BoxobanConfig(max_episode_steps=120, num_envs=100, seed=42, min_episode_steps=120, tinyworld_obs=True, tinyworld_render=False, terminate_on_first_box=False, reward_finished=10.0, reward_box=1.0, reward_step=-0.1, reset=False, asynchronous=True, cache_path=PosixPath('/opt/sokoban_cache'), split='valid', difficulty='medium'), n_episode_multiple=50, steps_to_think=[0, 2, 4, 6, 8, 12, 16, 32], temperature=0.0, safeguard_max_episode_steps=30000)"
      ]
     },
     "execution_count": 4,
     "metadata": {},
     "output_type": "execute_result"
    }
   ],
   "source": [
    "val_med_env_cfg"
   ]
  },
  {
   "cell_type": "code",
   "execution_count": 5,
   "metadata": {},
   "outputs": [
    {
     "name": "stdout",
     "output_type": "stream",
     "text": [
      "loading logs\n"
     ]
    }
   ],
   "source": [
    "base_path = pathlib.Path(\"data/latest\")\n",
    "if not (base_path / \"val_log_dict.pkl\").exists():\n",
    "    base_path.mkdir(parents=True, exist_ok=True)\n",
    "    # path = pathlib.Path(\"/training/cleanba/044-more-planners/wandb/run-20240506_043059-6zhw6cw1/local-files/cp_208000000\")\n",
    "    path = pathlib.Path(\"/training/cleanba/045-l1-loss-and-smaller-batches/wandb/run-20240526_235441-c51papdh/local-files/cp_256000000\")\n",
    "    args, train_state = load_train_state(path, val_med_env_cfg.env.make())\n",
    "    prng_key = jax.random.PRNGKey(0)\n",
    "    policy, carry_t, _ = args.net.init_params(val_med_env_cfg.env.make(), prng_key)\n",
    "    get_action_fn = jax.jit(partial(policy.apply, method=policy.get_action), static_argnames=\"temperature\")\n",
    "    params = train_state.params\n",
    "\n",
    "    if unfil:\n",
    "        unfil_log_dict = unfil_env_cfg.run(policy, get_action_fn, params, key=prng_key)\n",
    "        unfil_all_episode_info = [unfil_log_dict.pop(f\"{steps_to_think:02d}_all_episode_info\") for steps_to_think in steps_to_think]\n",
    "\n",
    "        print(\"finished unfiltered\")\n",
    "        with open(base_path / \"unfil_log_dict.pkl\", \"wb\") as f:\n",
    "            pickle.dump(unfil_log_dict, f)\n",
    "        with open(base_path / \"unfil_all_episode_info.pkl\", \"wb\") as f:\n",
    "            pickle.dump(unfil_all_episode_info, f)\n",
    "\n",
    "    val_log_dict = val_med_env_cfg.run(policy, get_action_fn, params, key=prng_key)\n",
    "    val_all_episode_info = [val_log_dict.pop(f\"{steps_to_think:02d}_all_episode_info\") for steps_to_think in steps_to_think]\n",
    "\n",
    "    with open(base_path / \"val_log_dict.pkl\", \"wb\") as f:\n",
    "        pickle.dump(val_log_dict, f)\n",
    "    with open(base_path / \"val_all_episode_info.pkl\", \"wb\") as f:\n",
    "        pickle.dump(val_all_episode_info, f)\n",
    "\n",
    "else:\n",
    "    print(\"loading logs\")\n",
    "    if unfil:\n",
    "        with open(base_path / \"unfil_log_dict.pkl\", \"rb\") as f:\n",
    "            unfil_log_dict = pickle.load(f)\n",
    "        with open(base_path / \"unfil_all_episode_info.pkl\", \"rb\") as f:\n",
    "            unfil_all_episode_info = pickle.load(f)\n",
    "    with open(base_path / \"val_log_dict.pkl\", \"rb\") as f:\n",
    "        val_log_dict = pickle.load(f)\n",
    "    with open(base_path / \"val_all_episode_info.pkl\", \"rb\") as f:\n",
    "        val_all_episode_info = pickle.load(f)\n"
   ]
  },
  {
   "cell_type": "code",
   "execution_count": 6,
   "metadata": {},
   "outputs": [
    {
     "data": {
      "text/plain": [
       "{'00_episode_returns': -0.4276399999999917,\n",
       " '00_episode_lengths': 86.7584,\n",
       " '00_episode_successes': 0.4994,\n",
       " '00_num_episodes': 5000,\n",
       " '02_episode_returns': 0.29196000000000777,\n",
       " '02_episode_lengths': 83.5804,\n",
       " '02_episode_successes': 0.534,\n",
       " '02_num_episodes': 5000,\n",
       " '04_episode_returns': 0.8676600000000071,\n",
       " '04_episode_lengths': 81.2534,\n",
       " '04_episode_successes': 0.564,\n",
       " '04_num_episodes': 5000,\n",
       " '06_episode_returns': 1.148000000000007,\n",
       " '06_episode_lengths': 80.186,\n",
       " '06_episode_successes': 0.579,\n",
       " '06_num_episodes': 5000,\n",
       " '08_episode_returns': 1.2494800000000068,\n",
       " '08_episode_lengths': 79.7652,\n",
       " '08_episode_successes': 0.584,\n",
       " '08_num_episodes': 5000,\n",
       " '12_episode_returns': 1.174940000000007,\n",
       " '12_episode_lengths': 80.0246,\n",
       " '12_episode_successes': 0.5798,\n",
       " '12_num_episodes': 5000,\n",
       " '16_episode_returns': 1.2307800000000069,\n",
       " '16_episode_lengths': 79.7802,\n",
       " '16_episode_successes': 0.583,\n",
       " '16_num_episodes': 5000,\n",
       " '32_episode_returns': 1.114080000000007,\n",
       " '32_episode_lengths': 80.0772,\n",
       " '32_episode_successes': 0.576,\n",
       " '32_num_episodes': 5000}"
      ]
     },
     "execution_count": 6,
     "metadata": {},
     "output_type": "execute_result"
    }
   ],
   "source": [
    "val_log_dict"
   ]
  },
  {
   "cell_type": "code",
   "execution_count": 7,
   "metadata": {},
   "outputs": [],
   "source": [
    "# resnet baseline\n",
    "\n",
    "baseline_250m_val = (0.2592, 100.4244, -5.101439999999986)\n",
    "baseline_1b_val = (0.4884, 84.5022, -0.6328199999999904)\n",
    "\n",
    "baseline_250m_unfil = (0.9072, 41.1814, 8.75226)\n",
    "baseline_1b_unfil = (0.9584, 36.583, 9.8457)"
   ]
  },
  {
   "cell_type": "code",
   "execution_count": 161,
   "metadata": {},
   "outputs": [
    {
     "name": "stdout",
     "output_type": "stream",
     "text": [
      "Best Steps to think: 8\n",
      "Solved, previously unsolved:\t11.52%\n",
      "Unsolved, previously solved:\t3.06%\n",
      "Solved, with better returns:\t37.72%\n",
      "Solved, with worse returns:\t4.52%\n",
      "Solved, with the same returns:\t\t4.64%\n",
      "Remaining unsolved, with same or better returns:\t31.44%\n",
      "Remaining unsolved, with worse returns:\t7.10%\n",
      "Total:\t\t\t\t100.00%\n",
      "Solved Total:\t\t\t58.40%\n",
      "Total higher return:\t\t\t49.24%\n",
      "84.31506849315069\n",
      "\n",
      "\\begin{tabular}{ll}\n",
      "\\toprule\n",
      "Level categorization & Percentage \\\\\n",
      "\\midrule\n",
      "Solved, previously unsolved & 11.52 \\\\\n",
      "Unsolved, previously solved & 3.06 \\\\\n",
      "\\midrule\n",
      "Solved, with better returns & 37.72 \\\\\n",
      "Solved, with worse returns & 4.52 \\\\\n",
      "Solved, with the same returns & 4.64 \\\\\n",
      "\\midrule\n",
      "Remaining unsolved, with same or better returns & 31.44 \\\\\n",
      "Remaining unsolved, with worse returns & 7.10 \\\\\n",
      "\\bottomrule\n",
      "\\end{tabular}\n",
      "\n"
     ]
    }
   ],
   "source": [
    "num_levels = len(val_all_episode_info[0][\"episode_successes\"])\n",
    "improved_level_list = []\n",
    "impaired_level_list = []\n",
    "solved_better_returns = []\n",
    "solved_worse_returns = []\n",
    "unsolved_better_same_returns = []\n",
    "unsolved_worse_returns = []\n",
    "same_return_and_solve = []\n",
    "baseline_steps = 0\n",
    "best_steps = np.argmax([val_log_dict[f\"{steps_to_think:02d}_episode_successes\"] for steps_to_think in steps_to_think])\n",
    "print(\"Best Steps to think:\", steps_to_think[best_steps])\n",
    "for i in range(len(val_all_episode_info[0][\"episode_successes\"])):\n",
    "    solved_after_thinking = val_all_episode_info[baseline_steps][\"episode_successes\"][i] < \\\n",
    "        val_all_episode_info[best_steps][\"episode_successes\"][i]\n",
    "    messed_up_after_thinking = val_all_episode_info[baseline_steps][\"episode_successes\"][i] > \\\n",
    "        val_all_episode_info[best_steps][\"episode_successes\"][i]\n",
    "\n",
    "    solved_always = val_all_episode_info[baseline_steps][\"episode_successes\"][i] and \\\n",
    "        val_all_episode_info[best_steps][\"episode_successes\"][i]\n",
    "    unsolved_always = not(val_all_episode_info[baseline_steps][\"episode_successes\"][i] or \\\n",
    "        val_all_episode_info[best_steps][\"episode_successes\"][i])\n",
    "    better_return = val_all_episode_info[best_steps][\"episode_returns\"][i] > \\\n",
    "        val_all_episode_info[baseline_steps][\"episode_returns\"][i]\n",
    "    worse_return = val_all_episode_info[best_steps][\"episode_returns\"][i] < \\\n",
    "        val_all_episode_info[baseline_steps][\"episode_returns\"][i]\n",
    "    same_return = val_all_episode_info[best_steps][\"episode_returns\"][i] == \\\n",
    "        val_all_episode_info[baseline_steps][\"episode_returns\"][i]\n",
    "\n",
    "    if solved_after_thinking:\n",
    "        improved_level_list.append(i)\n",
    "    elif messed_up_after_thinking:\n",
    "        impaired_level_list.append(i)\n",
    "    elif solved_always and better_return:\n",
    "        solved_better_returns.append(i)\n",
    "    elif solved_always and worse_return:\n",
    "        solved_worse_returns.append(i)\n",
    "    elif solved_always and same_return:\n",
    "        same_return_and_solve.append(i)\n",
    "    elif unsolved_always and (better_return or same_return):\n",
    "        unsolved_better_same_returns.append(i)\n",
    "    elif unsolved_always and worse_return:\n",
    "        unsolved_worse_returns.append(i)\n",
    "    else:\n",
    "        raise ValueError(\"This should not happen\")\n",
    "        \n",
    "\n",
    "# print all fractions\n",
    "improved_pc = len(improved_level_list)/num_levels*100\n",
    "impaired_pc = len(impaired_level_list)/num_levels*100\n",
    "solved_better_pc = len(solved_better_returns)/num_levels*100\n",
    "solved_worse_pc = len(solved_worse_returns)/num_levels*100\n",
    "unsolved_better_same_pc = len(unsolved_better_same_returns)/num_levels*100\n",
    "unsolved_worse_pc = len(unsolved_worse_returns)/num_levels*100\n",
    "same_return_and_solve_pc = len(same_return_and_solve)/num_levels*100\n",
    "\n",
    "print(f\"Solved, previously unsolved:\\t{improved_pc:.2f}%\")\n",
    "print(f\"Unsolved, previously solved:\\t{impaired_pc:.2f}%\")\n",
    "print(f\"Solved, with better returns:\\t{solved_better_pc:.2f}%\")\n",
    "print(f\"Solved, with worse returns:\\t{solved_worse_pc:.2f}%\")\n",
    "print(f\"Solved, with the same returns:\\t\\t{same_return_and_solve_pc:.2f}%\")\n",
    "print(f\"Remaining unsolved, with same or better returns:\\t{unsolved_better_same_pc:.2f}%\")\n",
    "print(f\"Remaining unsolved, with worse returns:\\t{unsolved_worse_pc:.2f}%\")\n",
    "\n",
    "total = improved_pc + impaired_pc + solved_better_pc + solved_worse_pc + unsolved_better_same_pc + unsolved_worse_pc + same_return_and_solve_pc\n",
    "solved_total = improved_pc + solved_better_pc + solved_worse_pc + same_return_and_solve_pc\n",
    "print(f\"Total:\\t\\t\\t\\t{total:.2f}%\")\n",
    "print(f\"Solved Total:\\t\\t\\t{solved_total:.2f}%\")\n",
    "print(f\"Total higher return:\\t\\t\\t{solved_better_pc + improved_pc:.2f}%\")\n",
    "print((solved_better_pc + improved_pc)/solved_total*100)\n",
    "\n",
    "# latex table for the above\n",
    "print(f\"\"\"\n",
    "\\\\begin{{tabular}}{{ll}}\n",
    "\\\\toprule\n",
    "Level categorization & Percentage \\\\\\\\\n",
    "\\\\midrule\n",
    "Solved, previously unsolved & {improved_pc:.2f} \\\\\\\\\n",
    "Unsolved, previously solved & {impaired_pc:.2f} \\\\\\\\\n",
    "\\\\midrule\n",
    "Solved, with better returns & {solved_better_pc:.2f} \\\\\\\\\n",
    "Solved, with worse returns & {solved_worse_pc:.2f} \\\\\\\\\n",
    "Solved, with the same returns & {same_return_and_solve_pc:.2f} \\\\\\\\\n",
    "\\\\midrule\n",
    "Remaining unsolved, with same or better returns & {unsolved_better_same_pc:.2f} \\\\\\\\\n",
    "Remaining unsolved, with worse returns & {unsolved_worse_pc:.2f} \\\\\\\\\n",
    "\\\\bottomrule\n",
    "\\\\end{{tabular}}\n",
    "\"\"\")"
   ]
  },
  {
   "cell_type": "markdown",
   "metadata": {},
   "source": [
    "### Plots"
   ]
  },
  {
   "cell_type": "code",
   "execution_count": 156,
   "metadata": {},
   "outputs": [
    {
     "data": {
      "image/png": "[encoded data removed]",
      "text/plain": [
       "<Figure size 325x230 with 1 Axes>"
      ]
     },
     "metadata": {},
     "output_type": "display_data"
    }
   ],
   "source": [
    "# solves vs steps_to_think\n",
    "\n",
    "env_names = [\"valid_medium\"] + ([\"unfiltered\"] if unfil else [])\n",
    "for i, log_dict in enumerate([val_log_dict] + ([unfil_log_dict] if unfil else [])):\n",
    "    episode_successes = [log_dict[f\"{step:02d}_episode_successes\"] for step in steps_to_think]\n",
    "    episode_returns = [log_dict[f\"{step:02d}_episode_returns\"] for step in steps_to_think]\n",
    "    \n",
    "    fig, ax1 = plt.subplots(figsize=(3.25, 2.3))\n",
    "    ax1.grid(True)\n",
    "    ax1.set_xlabel('Number of extra thinking steps at episode start')\n",
    "    ax1.set_ylabel('Success Rate')\n",
    "    x_steps_to_think = np.array(steps_to_think) + 2\n",
    "    ax1.plot(x_steps_to_think, episode_successes, color=\"C0\", label=\"DRC(3, 3)\")\n",
    "    ax1.tick_params(axis='y')\n",
    "\n",
    "    # ax2 = ax1.twinx()\n",
    "\n",
    "    # color = 'tab:red'\n",
    "    # ax2.set_ylabel('episode_returns', color=color)\n",
    "    # ax2.plot(steps_to_think, episode_returns, color=color)\n",
    "    # ax2.tick_params(axis='y', labelcolor=color)\n",
    "    x_min = 0.04\n",
    "    x_max = 1 - x_min\n",
    "    ax1.axhline(baseline_1b_val[0], color=\"C1\", linestyle='dotted', label=\"ResNet @ 1B steps\")\n",
    "    # ax1.axhline(baseline_250m_val[0], x_min, x_max, color='red', linestyle='dotted', label=\"ResNet @ 250M step\")\n",
    "    \n",
    "    ax1.set_xscale('log')\n",
    "\n",
    "    ax1.set_xlim(x_steps_to_think[0], x_steps_to_think[-1])\n",
    "    ax1.xaxis.set_major_formatter(ticker.FuncFormatter(lambda x, pos: '{0:g}'.format(x-2)))\n",
    "    ax1.xaxis.set_major_locator(ticker.FixedLocator(x_steps_to_think))\n",
    "    ax1.get_xaxis().set_minor_formatter(matplotlib.ticker.NullFormatter())\n",
    "    ax1.legend(bbox_to_anchor=(1.1, 1.4, -0.0, -0.1), ncol=2)\n",
    "\n",
    "    plt.savefig(plots_dir / f\"success_vs_steps_to_think_{env_names[i]}.pdf\", format=\"pdf\")\n",
    "    plt.show()\n"
   ]
  },
  {
   "cell_type": "code",
   "execution_count": 155,
   "metadata": {},
   "outputs": [
    {
     "data": {
      "text/plain": [
       "array([0.475, 0.5  , 0.525, 0.55 , 0.575, 0.6  ])"
      ]
     },
     "execution_count": 155,
     "metadata": {},
     "output_type": "execute_result"
    }
   ],
   "source": [
    "# ax1.get_yticks()\n",
    "ax1.set_yticks"
   ]
  },
  {
   "cell_type": "code",
   "execution_count": null,
   "metadata": {},
   "outputs": [],
   "source": []
  },
  {
   "cell_type": "code",
   "execution_count": 93,
   "metadata": {},
   "outputs": [
    {
     "name": "stderr",
     "output_type": "stream",
     "text": [
      "/var/folders/xy/12_d56_j7gbffygj723165580000gn/T/ipykernel_55548/703289262.py:42: UserWarning: FigureCanvasAgg is non-interactive, and thus cannot be shown\n",
      "  fig.show()\n"
     ]
    },
    {
     "data": {
      "image/png": "[encoded data removed]",
      "text/plain": [
       "<Figure size 330x200 with 2 Axes>"
      ]
     },
     "metadata": {},
     "output_type": "display_data"
    }
   ],
   "source": [
    "# Time to place boxes vs steps to think\n",
    "reward_for_placing_box = 0.9\n",
    "reward_for_placing_last_box = -0.1 + 1.0 + 10.0\n",
    "\n",
    "fig, axs = plt.subplots(1, 2, figsize=(3.3, 2), sharey=True, sharex=True)\n",
    "# with matplotlib.rc_context({'figure.figsize': (3.25, 2.25)}):\n",
    "for ax, condition_on_improved_levels in zip(axs, [False, True]):\n",
    "    ax.grid(True)\n",
    "    time_across_think_steps = []\n",
    "    for j in range(len(steps_to_think)):\n",
    "        all_rewards = val_all_episode_info[j][\"episode_rewards\"]\n",
    "        if condition_on_improved_levels:\n",
    "            time_for_placing_boxes = [np.where(all_rewards[level_idx] == reward_for_placing_box)[0] for level_idx in improved_level_list]\n",
    "        else:\n",
    "            time_for_placing_boxes = [np.where(reward_array == reward_for_placing_box)[0] for reward_array in all_rewards]\n",
    "        avg_time_box_placed = [np.mean([t[box_idx] for t in time_for_placing_boxes if len(t) > box_idx]) for box_idx in range(3)]\n",
    "        time_for_placing_last_box = [np.where(reward_array == reward_for_placing_last_box)[0] for reward_array in all_rewards]\n",
    "        time_for_placing_last_box = [e for e in time_for_placing_last_box if len(e) > 0]\n",
    "        avg_time_box_placed.append(np.mean(time_for_placing_last_box))\n",
    "        time_across_think_steps.append(avg_time_box_placed)\n",
    "\n",
    "    ax.plot(steps_to_think, time_across_think_steps)\n",
    "    if condition_on_improved_levels:\n",
    "        # disable y ticks\n",
    "        ax.set_yticks([10, 20, 30, 40, 50])\n",
    "        ax.set_xticks([0, 4, 16, 32])\n",
    "        # ax.set_yticklabels([])\n",
    "        ax.set_xlabel(\"(b) On solved levels\")\n",
    "    else:\n",
    "        ax.set_xlabel(\"(a) On all levels\")\n",
    "        ax.set_ylabel(\"Avg timesteps to place the box\")\n",
    "    # ax.set_xlabel(\"Steps to think\")\n",
    "# plt.xlabel(\"Steps to think\")\n",
    "fig.text(0.55, -0.05, 'Steps to think', ha='center')\n",
    "\n",
    "# fig.subplots_adjust(top=2)\n",
    "# fig.legend([\"B1\", \"B2\", \"B3\", \"B4\"], loc='upper center', ncols=4)\n",
    "fig.legend([\"B1\", \"B2\", \"B3\", \"B4\"], bbox_to_anchor=(1.02, 1.2), ncol=4)\n",
    "# fig.legend([\"Box 1\", \"Box 2\", \"Box 3\", \"Box 4\"], bbox_to_anchor=(1.0, 1.2), ncol=4, fontsize=8)\n",
    "\n",
    "plt.savefig(plots_dir / \"time_to_box_combined.pdf\", format=\"pdf\", bbox_inches='tight')\n",
    "fig.show()\n"
   ]
  },
  {
   "cell_type": "code",
   "execution_count": 19,
   "metadata": {},
   "outputs": [
    {
     "name": "stdout",
     "output_type": "stream",
     "text": [
      "skipping\n"
     ]
    }
   ],
   "source": [
    "%%script echo skipping\n",
    "# same first obs vs steps to think\n",
    "same_obs_list = []\n",
    "for j in range(len(steps_to_think)):\n",
    "    all_obs = val_all_episode_info[j][\"episode_obs\"]\n",
    "    same_obs = [np.all(all_obs[level_idx][0] == all_obs[level_idx][1]) for level_idx in range(len(all_obs))]\n",
    "    if j == 0:\n",
    "        levels_with_same_obs = same_obs\n",
    "    same_obs_list.append(np.mean(same_obs))\n",
    "\n",
    "plt.plot(steps_to_think, same_obs_list)\n",
    "plt.xlabel(\"Steps to think\")\n",
    "plt.ylabel(\"Number of levels\")\n",
    "plt.title(\"Levels where the first two observations are the same\")\n",
    "# log scale\n",
    "plt.yscale(\"log\")\n",
    "plt.show()"
   ]
  },
  {
   "cell_type": "markdown",
   "metadata": {},
   "source": [
    "### Correlation with A* difficulty (# of search steps)"
   ]
  },
  {
   "cell_type": "code",
   "execution_count": 22,
   "metadata": {},
   "outputs": [],
   "source": [
    "all_level_infos = list(zip(val_all_episode_info[0][\"level_infos\"][\"level_file_idx\"], val_all_episode_info[0][\"level_infos\"][\"level_idx\"]))\n",
    "all_search_steps = []\n",
    "all_optimal_lengths = []\n",
    "all_optimal_actions = []\n",
    "for i, (file_idx, lev_idx) in enumerate(all_level_infos):\n",
    "    filename = f\"medium_valid/logs/log_{file_idx:03d}_{lev_idx}.csv\"\n",
    "    with open(filename, \"r\") as f:\n",
    "        line = f.read().strip()\n",
    "    line = line.split(\",\")\n",
    "    all_search_steps.append(int(line[-1]))\n",
    "    all_optimal_actions.append(line[-3])\n",
    "    try:\n",
    "        all_optimal_lengths.append(int(line[-2]))\n",
    "    except ValueError:\n",
    "        all_optimal_lengths.append(len(line[-3]))\n",
    "    \n"
   ]
  },
  {
   "cell_type": "code",
   "execution_count": 23,
   "metadata": {},
   "outputs": [
    {
     "name": "stdout",
     "output_type": "stream",
     "text": [
      "5000\n"
     ]
    },
    {
     "data": {
      "image/png": "[encoded data removed]",
      "text/plain": [
       "<Figure size 325x200 with 1 Axes>"
      ]
     },
     "metadata": {},
     "output_type": "display_data"
    }
   ],
   "source": [
    "levels_partition_by_think_steps = [[] for _ in range(len(steps_to_think)+1)]\n",
    "print(len(val_all_episode_info[0][\"episode_successes\"]))\n",
    "for i in range(len(val_all_episode_info[0][\"episode_successes\"])):\n",
    "    found = False\n",
    "    for j in range(len(steps_to_think)):\n",
    "        if val_all_episode_info[j][\"episode_successes\"][i]:\n",
    "            levels_partition_by_think_steps[j].append(i)\n",
    "            found = True\n",
    "            break\n",
    "    if not found:\n",
    "        levels_partition_by_think_steps[-1].append(i)\n",
    "\n",
    "# plot avg search steps for each partition\n",
    "avg_search_steps = [np.mean([all_search_steps[level_idx] for level_idx in partition]) for partition in levels_partition_by_think_steps]\n",
    "plt.plot(steps_to_think + [\"unsolved\"], avg_search_steps)\n",
    "plt.xlabel(\"Steps to think\")\n",
    "plt.ylabel(\"Avg search steps\")\n",
    "plt.title(\"Avg search steps vs level solved at each think step\")\n",
    "plt.show()"
   ]
  },
  {
   "cell_type": "code",
   "execution_count": 32,
   "metadata": {},
   "outputs": [
    {
     "data": {
      "image/png": "[encoded data removed]",
      "text/plain": [
       "<Figure size 370x225 with 1 Axes>"
      ]
     },
     "metadata": {},
     "output_type": "display_data"
    }
   ],
   "source": [
    "avg_opt_len = [np.mean([all_optimal_lengths[level_idx] for level_idx in partition]) for partition in levels_partition_by_think_steps]\n",
    "with matplotlib.rc_context({'figure.figsize': (3.7, 2.25)}):\n",
    "    fig, ax = plt.subplots()\n",
    "    ax.grid(True)\n",
    "    ax.plot(steps_to_think + [\"unsolved\"], avg_opt_len)\n",
    "    plt.xlabel(\"Solved at steps to think\")\n",
    "    plt.ylabel(\"Avg Optimal Length\")\n",
    "    # plt.title(\"Avg Optimal Length vs level solved at each think step\")\n",
    "    plt.savefig(plots_dir / \"optimal_length_v_steps_to_think.pdf\", format=\"pdf\")\n",
    "    plt.show()"
   ]
  },
  {
   "cell_type": "markdown",
   "metadata": {},
   "source": [
    "### Cycles at the start"
   ]
  },
  {
   "cell_type": "code",
   "execution_count": 164,
   "metadata": {},
   "outputs": [],
   "source": [
    "cycle_starts_within = 8\n",
    "max_cycles = np.zeros(len(val_all_episode_info[0][\"episode_obs\"]), dtype=int)\n",
    "for i in range(len(val_all_episode_info[0][\"episode_obs\"])):\n",
    "    all_obs = val_all_episode_info[0][\"episode_obs\"][i]\n",
    "    all_obs = all_obs.reshape(all_obs.shape[0], 1, *all_obs.shape[1:])\n",
    "    obs_repeat = np.all(all_obs == all_obs.transpose(1, 0, 2, 3, 4), axis=(2, 3, 4))\n",
    "    np.fill_diagonal(obs_repeat, False)\n",
    "    obs_repeat = [np.where(obs_repeat[j])[0] for j in range(min(cycle_starts_within, len(obs_repeat)))]\n",
    "    obs_repeat = [abs(j-arr[-1]) for j, arr in enumerate(obs_repeat) if arr.size > 0]\n",
    "    max_cycles[i] = np.max(obs_repeat) if len(obs_repeat) > 0 else 0\n"
   ]
  },
  {
   "cell_type": "markdown",
   "metadata": {},
   "source": [
    "### Box 1 time difference using time to first box"
   ]
  },
  {
   "cell_type": "code",
   "execution_count": 165,
   "metadata": {},
   "outputs": [],
   "source": [
    "natural_thinking_steps = np.zeros(len(val_all_episode_info[0][\"episode_obs\"]), dtype=int)\n",
    "box_on_target = np.array([254, 95, 56])[:, None, None]\n",
    "\n",
    "def get_box_on_target_pos(obs):\n",
    "    check_box_on_target = np.all(obs == box_on_target, axis=0)\n",
    "    x_pos, y_pos = np.where(check_box_on_target)\n",
    "    assert len(x_pos) == 1\n",
    "    return (x_pos[0], y_pos[0])\n",
    "\n",
    "for i in range(len(val_all_episode_info[0][\"episode_obs\"])):\n",
    "    time_to_box1_wo_think_steps = np.where(val_all_episode_info[baseline_steps][\"episode_rewards\"][i] == reward_for_placing_box)[0]\n",
    "    \n",
    "    time_to_box1_w_think_steps = np.where(val_all_episode_info[best_steps][\"episode_rewards\"][i] == reward_for_placing_box)[0]\n",
    "    if len(time_to_box1_wo_think_steps) == 0 or len(time_to_box1_w_think_steps) == 0:\n",
    "        continue\n",
    "    time_to_box1_wo_think_steps = time_to_box1_wo_think_steps[0] + 1 # +1 to index correct obs\n",
    "    time_to_box1_w_think_steps = time_to_box1_w_think_steps[0] + 1\n",
    "\n",
    "    box_pos_wo_think_steps = get_box_on_target_pos(val_all_episode_info[baseline_steps][\"episode_obs\"][i][time_to_box1_wo_think_steps])\n",
    "    box_pos_w_think_steps = get_box_on_target_pos(val_all_episode_info[best_steps][\"episode_obs\"][i][time_to_box1_w_think_steps])\n",
    "    if box_pos_w_think_steps == box_pos_wo_think_steps:\n",
    "        natural_thinking_steps[i] = max(0, time_to_box1_wo_think_steps - time_to_box1_w_think_steps)\n",
    "        # assert natural_thinking_steps[i] >= 0, f\"{natural_thinking_steps[i]} for level {i}\"\n"
   ]
  },
  {
   "cell_type": "code",
   "execution_count": 18,
   "metadata": {},
   "outputs": [
    {
     "data": {
      "text/plain": [
       "True"
      ]
     },
     "execution_count": 18,
     "metadata": {},
     "output_type": "execute_result"
    }
   ],
   "source": [
    "val_all_episode_info[0][\"episode_successes\"][0]"
   ]
  },
  {
   "cell_type": "code",
   "execution_count": 167,
   "metadata": {},
   "outputs": [],
   "source": [
    "# filter by solves\n",
    "solved_max_cycles = []\n",
    "solved_natural_thinking_steps = []\n",
    "for i in range(len(val_all_episode_info[0][\"episode_successes\"])):\n",
    "    if val_all_episode_info[0][\"episode_successes\"][i]:\n",
    "        solved_max_cycles.append(max_cycles[i])\n",
    "        solved_natural_thinking_steps.append(natural_thinking_steps[i])"
   ]
  },
  {
   "cell_type": "code",
   "execution_count": 177,
   "metadata": {},
   "outputs": [
    {
     "data": {
      "image/png": "[encoded data removed]",
      "text/plain": [
       "<Figure size 325x200 with 1 Axes>"
      ]
     },
     "metadata": {},
     "output_type": "display_data"
    }
   ],
   "source": [
    "# %%script echo skipping\n",
    "# scatter plot of max cycles vs Box 1 time difference\n",
    "plt.scatter(solved_max_cycles, solved_natural_thinking_steps)\n",
    "plt.xlabel(\"Longest cycle length\")\n",
    "plt.ylabel(\"Box 1 time difference\")\n",
    "# plt.title(f\"Filtered by solved episodes | {cycle_starts_within=}\")\n",
    "plt.savefig(plots_dir / f\"cycle_length_scatter_plot_filter_solve.pdf\", format=\"pdf\")\n",
    "plt.show()"
   ]
  },
  {
   "cell_type": "code",
   "execution_count": 178,
   "metadata": {},
   "outputs": [
    {
     "data": {
      "image/png": "[encoded data removed]",
      "text/plain": [
       "<Figure size 325x200 with 1 Axes>"
      ]
     },
     "metadata": {},
     "output_type": "display_data"
    }
   ],
   "source": [
    "# %%script echo skipping\n",
    "# scatter plot of max cycles vs Box 1 time difference\n",
    "plt.scatter(max_cycles, natural_thinking_steps)\n",
    "plt.xlabel(\"Longest cycle length\")\n",
    "plt.ylabel(\"Box 1 time difference\")\n",
    "# plt.title(f\"Filtered by solved episodes | {cycle_starts_within=}\")\n",
    "plt.savefig(plots_dir / f\"cycle_length_scatter_plot.pdf\", format=\"pdf\")\n",
    "plt.show()"
   ]
  },
  {
   "cell_type": "code",
   "execution_count": 179,
   "metadata": {},
   "outputs": [
    {
     "data": {
      "image/png": "[encoded data removed]",
      "text/plain": [
       "<Figure size 325x200 with 1 Axes>"
      ]
     },
     "metadata": {},
     "output_type": "display_data"
    }
   ],
   "source": [
    "# %%script echo skipping\n",
    "# scatter plot of max cycles vs optimal length\n",
    "plt.scatter(max_cycles, all_optimal_lengths)\n",
    "plt.xlabel(\"Longest cycle length\")\n",
    "plt.ylabel(\"Optimal length\")\n",
    "plt.savefig(plots_dir / f\"cycle_length_vs_optimal_length_scatter.pdf\", format=\"pdf\")\n",
    "plt.show()"
   ]
  },
  {
   "cell_type": "code",
   "execution_count": 181,
   "metadata": {},
   "outputs": [
    {
     "data": {
      "image/png": "[encoded data removed]",
      "text/plain": [
       "<Figure size 325x200 with 1 Axes>"
      ]
     },
     "metadata": {},
     "output_type": "display_data"
    }
   ],
   "source": [
    "# %%script echo skipping\n",
    "# scatter plot of max cycles vs optimal length\n",
    "plt.scatter(natural_thinking_steps, all_search_steps)\n",
    "plt.xlabel(\"Longest cycle length\")\n",
    "plt.ylabel(\"Search Step A*\")\n",
    "plt.savefig(plots_dir / f\"cycle_length_vs_search_steps_scatter.pdf\", format=\"pdf\")\n",
    "plt.show()"
   ]
  },
  {
   "cell_type": "code",
   "execution_count": 182,
   "metadata": {},
   "outputs": [
    {
     "data": {
      "image/png": "[encoded data removed]",
      "text/plain": [
       "<Figure size 325x200 with 1 Axes>"
      ]
     },
     "metadata": {},
     "output_type": "display_data"
    }
   ],
   "source": [
    "# %%script echo skipping\n",
    "# scatter plot of max cycles vs optimal length\n",
    "plt.scatter(natural_thinking_steps, all_optimal_lengths)\n",
    "plt.xlabel(\"Box 1 time difference\")\n",
    "plt.ylabel(\"Optimal length\")\n",
    "plt.savefig(plots_dir / f\"box1_time_diff_vs_optimal_length_scatter.pdf\", format=\"pdf\")\n",
    "plt.show()"
   ]
  },
  {
   "cell_type": "markdown",
   "metadata": {},
   "source": [
    "### Videos"
   ]
  },
  {
   "cell_type": "code",
   "execution_count": 25,
   "metadata": {},
   "outputs": [],
   "source": [
    "# solved but better returns\n",
    "do_save = False\n",
    "if do_save:\n",
    "    saved = 0\n",
    "    for level_idx in solved_better_returns:\n",
    "        if levels_with_same_obs[level_idx]:\n",
    "            continue\n",
    "        save_level_video(level_idx, base_dir=\"solved_but_better_returns/\")\n",
    "        saved += 1\n",
    "        if saved >= 10:\n",
    "            break"
   ]
  },
  {
   "cell_type": "code",
   "execution_count": 26,
   "metadata": {},
   "outputs": [],
   "source": [
    "# 8-ts takes wrong turn and hence longer to score the same box 1 as 0-ts\n",
    "if do_save:\n",
    "    save_level_video(41, base_dir=\"interesting_cases/\")"
   ]
  },
  {
   "cell_type": "code",
   "execution_count": 27,
   "metadata": {},
   "outputs": [],
   "source": [
    "if do_save:\n",
    "    for i, idx in enumerate(np.where(max_cycles > 60)[0]):\n",
    "        save_level_video(idx, base_dir=\"long_cycles/\")\n",
    "        if i >= 5:\n",
    "            break"
   ]
  },
  {
   "cell_type": "code",
   "execution_count": 28,
   "metadata": {},
   "outputs": [],
   "source": [
    "if do_save:\n",
    "    for i, idx in enumerate(np.where(natural_thinking_steps > 20)[0]):\n",
    "        save_level_video(idx, base_dir=\"high_natural_thinking_steps/\")\n",
    "        if i >= 5:\n",
    "            break"
   ]
  },
  {
   "cell_type": "code",
   "execution_count": 29,
   "metadata": {},
   "outputs": [],
   "source": [
    "# solved with thinking more\n",
    "if do_save:\n",
    "    saved = 0\n",
    "    for level_idx in improved_level_list:\n",
    "        save_level_video(level_idx, base_dir=\"thinking_solves_unsolved/\")\n",
    "        saved += 1\n",
    "        if saved >= 10:\n",
    "            break"
   ]
  },
  {
   "cell_type": "markdown",
   "metadata": {},
   "source": [
    "### Collapse"
   ]
  },
  {
   "cell_type": "code",
   "execution_count": 30,
   "metadata": {},
   "outputs": [],
   "source": [
    "# writer = cleanba_impala.WandbWriter(args)\n",
    "# param_queue = queue.Queue(maxsize=1)\n",
    "# rollout_queue = queue.Queue(maxsize=1)\n",
    "# learner_policy_version = 0\n",
    "# unreplicated_params = train_state.params\n",
    "# with cleanba_impala.initialize_multi_device(args) as runtime_info:\n",
    "#     device_params = jax.device_put(unreplicated_params, runtime_info.local_devices[0])\n",
    "#     param_queue.put((device_params, learner_policy_version))\n",
    "#     prng_key = jax.random.PRNGKey(0)\n",
    "#     cleanba_impala.rollout(\n",
    "#         prng_key,\n",
    "#         args,\n",
    "#         runtime_info,\n",
    "#         rollout_queue,\n",
    "#         param_queue,\n",
    "#         writer,\n",
    "#         runtime_info.learner_devices,\n",
    "#         0,\n",
    "#         runtime_info.local_devices[0],\n",
    "#     )\n",
    "\n",
    "# import glob\n",
    "\n",
    "# all_log_levels = []\n",
    "# for filename in glob.glob(\"/training/.sokoban_cache/boxoban-levels-master/medium/valid/logs/*\"):\n",
    "#     try:\n",
    "#         file_idx, lev_idx = (int(c) for c in filename.split(\"/\")[-1].split(\".\")[0].split(\"_\")[1:])\n",
    "#     except ValueError:\n",
    "#         continue\n",
    "#     all_log_levels.append((file_idx, lev_idx))\n",
    "\n",
    "# # find file_idx, lev_idx not in all_log_levels\n",
    "# not_present = []\n",
    "# for file_idx in range(50):\n",
    "#     for lev_idx in range(1000):\n",
    "#         if (file_idx, lev_idx) not in all_log_levels:\n",
    "#             not_present.append((file_idx, lev_idx))\n",
    "# len(not_present)"
   ]
  }
 ],
 "metadata": {
  "kernelspec": {
   "display_name": "venv",
   "language": "python",
   "name": "python3"
  },
  "language_info": {
   "codemirror_mode": {
    "name": "ipython",
    "version": 3
   },
   "file_extension": ".py",
   "mimetype": "text/x-python",
   "name": "python",
   "nbconvert_exporter": "python",
   "pygments_lexer": "ipython3",
   "version": "3.11.7"
  }
 },
 "nbformat": 4,
 "nbformat_minor": 2
}
