{
 "cells": [
  {
   "cell_type": "code",
   "execution_count": 1,
   "metadata": {},
   "outputs": [],
   "source": [
    "import contextlib\n",
    "import tempfile\n",
    "import threading\n",
    "from functools import partial\n",
    "from pathlib import Path\n",
    "from typing import Callable, Dict, Iterator, Optional\n",
    "import os\n",
    "\n",
    "import gymnasium as gym\n",
    "import numpy as np\n",
    "from flax.training.train_state import TrainState\n",
    "from gymnasium import spaces\n",
    "from gymnasium.envs.classic_control.cartpole import CartPoleEnv\n",
    "from gymnasium.wrappers import NormalizeObservation\n",
    "\n",
    "from cleanba.cleanba_impala import WandbWriter, load_train_state, train\n",
    "from cleanba.config import Args\n",
    "from cleanba.convlstm import ConvConfig, ConvLSTMConfig\n",
    "from cleanba.network import GuezResNetConfig\n",
    "from cleanba.environments import EnvConfig\n",
    "from cleanba.evaluate import EvalConfig"
   ]
  },
  {
   "cell_type": "code",
   "execution_count": 2,
   "metadata": {},
   "outputs": [],
   "source": [
    "# TODO: use generic Writer interface, this is not correct inheritance\n",
    "class CheckingWriter(WandbWriter):\n",
    "    def __init__(self, cfg: Args, save_dir: Path, eval_keys):\n",
    "        self.last_global_step = -1\n",
    "        self.metrics = {}\n",
    "        self._save_dir = save_dir\n",
    "\n",
    "        self.eval_keys = set(eval_keys)\n",
    "        assert len(self.eval_keys) > 0\n",
    "        self.eval_events = {k: threading.Event() for k in self.eval_keys}\n",
    "\n",
    "        # assert cfg.save_model is True\n",
    "        self._args = cfg\n",
    "        self.step_digits = 4\n",
    "        self.eval_metrics = {}\n",
    "        self.eval_global_step = -1\n",
    "        self.done_saving = threading.Event()\n",
    "        self.done_saving.set()\n",
    "\n",
    "    def add_scalar(self, name: str, value: int | float, global_step: int):\n",
    "        if global_step == self.last_global_step:\n",
    "            self.metrics.clear()\n",
    "\n",
    "        self.last_global_step = global_step\n",
    "        self.metrics[name] = value\n",
    "\n",
    "        if name in self.eval_events:\n",
    "            if self.eval_global_step != global_step:\n",
    "                self.done_saving.wait(10)\n",
    "                self.eval_metrics.clear()\n",
    "\n",
    "            self.eval_global_step = global_step\n",
    "            self.eval_events[name].set()\n",
    "            self.eval_metrics[name] = value\n",
    "\n",
    "    @contextlib.contextmanager\n",
    "    def save_dir(self, global_step: int) -> Iterator[Path]:\n",
    "        for event in self.eval_events.values():\n",
    "            event.wait(timeout=5)\n",
    "\n",
    "        with super().save_dir(global_step) as dir:\n",
    "            yield dir\n",
    "\n",
    "            assert self.last_global_step == global_step, \"we want to save with the same step as last metrics\"\n",
    "            assert all(\n",
    "                k in self.eval_metrics for k in self.eval_keys\n",
    "            ), f\"One of {self.eval_keys=} not present in {list(self.eval_metrics.keys())=}\"\n",
    "\n",
    "        # Clear for the next saving\n",
    "        for event in self.eval_events.values():\n",
    "            event.clear()\n",
    "        self.done_saving.set()\n",
    "\n",
    "        args, train_state = load_train_state(dir)\n",
    "        assert args == self._args\n",
    "        assert isinstance(train_state, TrainState)\n"
   ]
  },
  {
   "cell_type": "code",
   "execution_count": 3,
   "metadata": {},
   "outputs": [],
   "source": [
    "if \"CartPoleNoVel-v0\" not in gym.registry or \"CartPoleCHW-v0\" not in gym.registry:\n",
    "    class CartPoleCHWEnv(CartPoleEnv):\n",
    "        \"\"\"Variant of CartPoleEnv with velocity information removed, and CHW-shaped observations.\n",
    "        This task requires memory to solve.\"\"\"\n",
    "\n",
    "        def __init__(self):\n",
    "            super().__init__()\n",
    "            high = np.array(\n",
    "                [\n",
    "                    self.x_threshold * 2,\n",
    "                    3.4028235e+38,\n",
    "                    self.theta_threshold_radians * 2,\n",
    "                    3.4028235e+38,\n",
    "                ],\n",
    "                dtype=np.float32,\n",
    "            )[:, None, None]\n",
    "            self.observation_space = spaces.Box(-high, high, dtype=np.float32)\n",
    "\n",
    "        @staticmethod\n",
    "        def _pos_obs(full_obs):\n",
    "            return np.array(full_obs)[:, None, None]\n",
    "\n",
    "        def reset(self, *, seed: Optional[int] = None, options: Optional[Dict] = None):\n",
    "            full_obs, info = super().reset(seed=seed, options=options)\n",
    "            return CartPoleCHWEnv._pos_obs(full_obs), info\n",
    "\n",
    "        def step(self, action):\n",
    "            full_obs, rew, terminated, truncated, info = super().step(action)\n",
    "            return CartPoleCHWEnv._pos_obs(full_obs), rew, terminated, truncated, info\n",
    "\n",
    "\n",
    "    class CartPoleNoVelEnv(CartPoleEnv):\n",
    "        \"\"\"Variant of CartPoleEnv with velocity information removed, and CHW-shaped observations.\n",
    "        This task requires memory to solve.\"\"\"\n",
    "\n",
    "        def __init__(self):\n",
    "            super().__init__()\n",
    "            high = np.array(\n",
    "                [\n",
    "                    self.x_threshold * 2,\n",
    "                    self.theta_threshold_radians * 2,\n",
    "                ],\n",
    "                dtype=np.float32,\n",
    "            )[:, None, None]\n",
    "            self.observation_space = spaces.Box(-high, high, dtype=np.float32)\n",
    "\n",
    "        @staticmethod\n",
    "        def _pos_obs(full_obs):\n",
    "            xpos, _xvel, thetapos, _thetavel = full_obs\n",
    "            return np.array([xpos, thetapos])[:, None, None]\n",
    "\n",
    "        def reset(self, *, seed: Optional[int] = None, options: Optional[Dict] = None):\n",
    "            full_obs, info = super().reset(seed=seed, options=options)\n",
    "            return CartPoleNoVelEnv._pos_obs(full_obs), info\n",
    "\n",
    "        def step(self, action):\n",
    "            full_obs, rew, terminated, truncated, info = super().step(action)\n",
    "            return CartPoleNoVelEnv._pos_obs(full_obs), rew, terminated, truncated, info\n",
    "\n",
    "    gym.register(\n",
    "        id=\"CartPoleNoVel-v0\",\n",
    "        entry_point=CartPoleNoVelEnv,\n",
    "        max_episode_steps=500,\n",
    "    )\n",
    "\n",
    "    gym.register(\n",
    "        id=\"CartPoleCHW-v0\",\n",
    "        entry_point=CartPoleCHWEnv,\n",
    "        max_episode_steps=500,\n",
    "    )\n",
    "\n",
    "class CartPoleNoVelConfig(EnvConfig):\n",
    "\n",
    "    @property\n",
    "    def make(self) -> Callable[[], gym.vector.VectorEnv]:\n",
    "        return partial(gym.vector.AsyncVectorEnv, env_fns=[CartPoleNoVelEnv] * self.num_envs)\n",
    "\n",
    "class CartPoleConfig(EnvConfig):\n",
    "\n",
    "    @property\n",
    "    def make(self) -> Callable[[], gym.vector.VectorEnv]:\n",
    "        return partial(gym.vector.AsyncVectorEnv, env_fns=[CartPoleCHWEnv] * self.num_envs)\n"
   ]
  },
  {
   "cell_type": "code",
   "execution_count": 4,
   "metadata": {},
   "outputs": [
    {
     "name": "stderr",
     "output_type": "stream",
     "text": [
      "Failed to detect the name of this notebook, you can set it manually with the WANDB_NOTEBOOK_NAME environment variable to enable code saving.\n",
      "\u001b[34m\u001b[1mwandb\u001b[0m: Currently logged in as: \u001b[33mtaufeeque9\u001b[0m (\u001b[33mfarai\u001b[0m). Use \u001b[1m`wandb login --relogin`\u001b[0m to force relogin\n"
     ]
    },
    {
     "data": {
      "text/html": [
       "wandb version 0.16.6 is available!  To upgrade, please run:\n",
       " $ pip install wandb --upgrade"
      ],
      "text/plain": [
       "<IPython.core.display.HTML object>"
      ]
     },
     "metadata": {},
     "output_type": "display_data"
    },
    {
     "data": {
      "text/html": [
       "Tracking run with wandb version 0.13.11"
      ],
      "text/plain": [
       "<IPython.core.display.HTML object>"
      ]
     },
     "metadata": {},
     "output_type": "display_data"
    },
    {
     "data": {
      "text/html": [
       "Run data is saved locally in <code>/tmp/cleanba/cartpole_vel_grp/wandb/run-20240503_121607-h4gitfp5</code>"
      ],
      "text/plain": [
       "<IPython.core.display.HTML object>"
      ]
     },
     "metadata": {},
     "output_type": "display_data"
    },
    {
     "data": {
      "text/html": [
       "Syncing run <strong><a href='https://wandb.ai/farai/lp-cleanba/runs/h4gitfp5' target=\"_blank\">cartpole_vel</a></strong> to <a href='https://wandb.ai/farai/lp-cleanba' target=\"_blank\">Weights & Biases</a> (<a href='https://wandb.me/run' target=\"_blank\">docs</a>)<br/>"
      ],
      "text/plain": [
       "<IPython.core.display.HTML object>"
      ]
     },
     "metadata": {},
     "output_type": "display_data"
    },
    {
     "data": {
      "text/html": [
       " View project at <a href='https://wandb.ai/farai/lp-cleanba' target=\"_blank\">https://wandb.ai/farai/lp-cleanba</a>"
      ],
      "text/plain": [
       "<IPython.core.display.HTML object>"
      ]
     },
     "metadata": {},
     "output_type": "display_data"
    },
    {
     "data": {
      "text/html": [
       " View run at <a href='https://wandb.ai/farai/lp-cleanba/runs/h4gitfp5' target=\"_blank\">https://wandb.ai/farai/lp-cleanba/runs/h4gitfp5</a>"
      ],
      "text/plain": [
       "<IPython.core.display.HTML object>"
      ]
     },
     "metadata": {},
     "output_type": "display_data"
    },
    {
     "data": {
      "text/html": [
       "<pre style=\"white-space:pre;overflow-x:auto;line-height:normal;font-family:Menlo,'DejaVu Sans Mono',consolas,'Courier New',monospace\"><span style=\"color: #800080; text-decoration-color: #800080; font-weight: bold\">RuntimeInformation</span><span style=\"font-weight: bold\">(</span>\n",
       "<span style=\"color: #7fbf7f; text-decoration-color: #7fbf7f\">│   </span><span style=\"color: #808000; text-decoration-color: #808000\">local_batch_size</span>=<span style=\"color: #008080; text-decoration-color: #008080; font-weight: bold\">1280</span>,\n",
       "<span style=\"color: #7fbf7f; text-decoration-color: #7fbf7f\">│   </span><span style=\"color: #808000; text-decoration-color: #808000\">local_devices</span>=<span style=\"font-weight: bold\">[</span><span style=\"color: #800080; text-decoration-color: #800080; font-weight: bold\">CpuDevice</span><span style=\"font-weight: bold\">(</span><span style=\"color: #808000; text-decoration-color: #808000\">id</span>=<span style=\"color: #008080; text-decoration-color: #008080; font-weight: bold\">0</span><span style=\"font-weight: bold\">)]</span>,\n",
       "<span style=\"color: #7fbf7f; text-decoration-color: #7fbf7f\">│   </span><span style=\"color: #808000; text-decoration-color: #808000\">local_minibatch_size</span>=<span style=\"color: #008080; text-decoration-color: #008080; font-weight: bold\">320</span>,\n",
       "<span style=\"color: #7fbf7f; text-decoration-color: #7fbf7f\">│   </span><span style=\"color: #808000; text-decoration-color: #808000\">world_size</span>=<span style=\"color: #008080; text-decoration-color: #008080; font-weight: bold\">1</span>,\n",
       "<span style=\"color: #7fbf7f; text-decoration-color: #7fbf7f\">│   </span><span style=\"color: #808000; text-decoration-color: #808000\">local_rank</span>=<span style=\"color: #008080; text-decoration-color: #008080; font-weight: bold\">0</span>,\n",
       "<span style=\"color: #7fbf7f; text-decoration-color: #7fbf7f\">│   </span><span style=\"color: #808000; text-decoration-color: #808000\">num_envs</span>=<span style=\"color: #008080; text-decoration-color: #008080; font-weight: bold\">64</span>,\n",
       "<span style=\"color: #7fbf7f; text-decoration-color: #7fbf7f\">│   </span><span style=\"color: #808000; text-decoration-color: #808000\">batch_size</span>=<span style=\"color: #008080; text-decoration-color: #008080; font-weight: bold\">1280</span>,\n",
       "<span style=\"color: #7fbf7f; text-decoration-color: #7fbf7f\">│   </span><span style=\"color: #808000; text-decoration-color: #808000\">minibatch_size</span>=<span style=\"color: #008080; text-decoration-color: #008080; font-weight: bold\">320</span>,\n",
       "<span style=\"color: #7fbf7f; text-decoration-color: #7fbf7f\">│   </span><span style=\"color: #808000; text-decoration-color: #808000\">num_updates</span>=<span style=\"color: #008080; text-decoration-color: #008080; font-weight: bold\">781</span>,\n",
       "<span style=\"color: #7fbf7f; text-decoration-color: #7fbf7f\">│   </span><span style=\"color: #808000; text-decoration-color: #808000\">global_learner_devices</span>=<span style=\"font-weight: bold\">[</span><span style=\"color: #800080; text-decoration-color: #800080; font-weight: bold\">CpuDevice</span><span style=\"font-weight: bold\">(</span><span style=\"color: #808000; text-decoration-color: #808000\">id</span>=<span style=\"color: #008080; text-decoration-color: #008080; font-weight: bold\">0</span><span style=\"font-weight: bold\">)]</span>,\n",
       "<span style=\"color: #7fbf7f; text-decoration-color: #7fbf7f\">│   </span><span style=\"color: #808000; text-decoration-color: #808000\">learner_devices</span>=<span style=\"font-weight: bold\">[</span><span style=\"color: #800080; text-decoration-color: #800080; font-weight: bold\">CpuDevice</span><span style=\"font-weight: bold\">(</span><span style=\"color: #808000; text-decoration-color: #808000\">id</span>=<span style=\"color: #008080; text-decoration-color: #008080; font-weight: bold\">0</span><span style=\"font-weight: bold\">)]</span>\n",
       "<span style=\"font-weight: bold\">)</span>\n",
       "</pre>\n"
      ],
      "text/plain": [
       "\u001b[1;35mRuntimeInformation\u001b[0m\u001b[1m(\u001b[0m\n",
       "\u001b[2;32m│   \u001b[0m\u001b[33mlocal_batch_size\u001b[0m=\u001b[1;36m1280\u001b[0m,\n",
       "\u001b[2;32m│   \u001b[0m\u001b[33mlocal_devices\u001b[0m=\u001b[1m[\u001b[0m\u001b[1;35mCpuDevice\u001b[0m\u001b[1m(\u001b[0m\u001b[33mid\u001b[0m=\u001b[1;36m0\u001b[0m\u001b[1m)\u001b[0m\u001b[1m]\u001b[0m,\n",
       "\u001b[2;32m│   \u001b[0m\u001b[33mlocal_minibatch_size\u001b[0m=\u001b[1;36m320\u001b[0m,\n",
       "\u001b[2;32m│   \u001b[0m\u001b[33mworld_size\u001b[0m=\u001b[1;36m1\u001b[0m,\n",
       "\u001b[2;32m│   \u001b[0m\u001b[33mlocal_rank\u001b[0m=\u001b[1;36m0\u001b[0m,\n",
       "\u001b[2;32m│   \u001b[0m\u001b[33mnum_envs\u001b[0m=\u001b[1;36m64\u001b[0m,\n",
       "\u001b[2;32m│   \u001b[0m\u001b[33mbatch_size\u001b[0m=\u001b[1;36m1280\u001b[0m,\n",
       "\u001b[2;32m│   \u001b[0m\u001b[33mminibatch_size\u001b[0m=\u001b[1;36m320\u001b[0m,\n",
       "\u001b[2;32m│   \u001b[0m\u001b[33mnum_updates\u001b[0m=\u001b[1;36m781\u001b[0m,\n",
       "\u001b[2;32m│   \u001b[0m\u001b[33mglobal_learner_devices\u001b[0m=\u001b[1m[\u001b[0m\u001b[1;35mCpuDevice\u001b[0m\u001b[1m(\u001b[0m\u001b[33mid\u001b[0m=\u001b[1;36m0\u001b[0m\u001b[1m)\u001b[0m\u001b[1m]\u001b[0m,\n",
       "\u001b[2;32m│   \u001b[0m\u001b[33mlearner_devices\u001b[0m=\u001b[1m[\u001b[0m\u001b[1;35mCpuDevice\u001b[0m\u001b[1m(\u001b[0m\u001b[33mid\u001b[0m=\u001b[1;36m0\u001b[0m\u001b[1m)\u001b[0m\u001b[1m]\u001b[0m\n",
       "\u001b[1m)\u001b[0m\n"
      ]
     },
     "metadata": {},
     "output_type": "display_data"
    },
    {
     "name": "stdout",
     "output_type": "stream",
     "text": [
      "device_thread_id=0, SPS=5769.46, global_step=12800, avg_episode_returns=21.52, avg_episode_length=21.52, avg_rollout_time=0.09033\n",
      "Evaluating  eval0\n",
      "12800 actor_policy_version=8, actor_update=10, learner_policy_version=10, training time: 5.4152562618255615s\n",
      "device_thread_id=0, SPS=3266.82, global_step=25600, avg_episode_returns=22.94, avg_episode_length=22.94, avg_rollout_time=0.01953\n",
      "Evaluating  eval0\n",
      "25600 actor_policy_version=18, actor_update=20, learner_policy_version=20, training time: 4.834189176559448s\n",
      "device_thread_id=0, SPS=2984.60, global_step=38400, avg_episode_returns=22.72, avg_episode_length=22.72, avg_rollout_time=0.01871\n",
      "Evaluating  eval0\n",
      "38400 actor_policy_version=28, actor_update=30, learner_policy_version=30, training time: 4.80699896812439s\n",
      "device_thread_id=0, SPS=2868.34, global_step=51200, avg_episode_returns=22.39, avg_episode_length=22.39, avg_rollout_time=0.01694\n",
      "Evaluating  eval0\n",
      "51200 actor_policy_version=38, actor_update=40, learner_policy_version=40, training time: 4.578878879547119s\n",
      "device_thread_id=0, SPS=2830.29, global_step=64000, avg_episode_returns=22.34, avg_episode_length=22.34, avg_rollout_time=0.01753\n",
      "Evaluating  eval0\n",
      "64000 actor_policy_version=48, actor_update=50, learner_policy_version=50, training time: 4.600284814834595s\n",
      "device_thread_id=0, SPS=2802.91, global_step=76800, avg_episode_returns=22.19, avg_episode_length=22.19, avg_rollout_time=0.01794\n",
      "Evaluating  eval0\n"
     ]
    }
   ],
   "source": [
    "import wandb\n",
    "\n",
    "def train_cartpole_no_vel(policy=\"resnet\", env=\"cartpole\"):\n",
    "    if policy == \"resnet\":\n",
    "        net = GuezResNetConfig(\n",
    "            channels=(64,),\n",
    "            strides=(1,),\n",
    "            kernel_sizes=(1,),\n",
    "            mlp_hiddens=(64,),\n",
    "        )\n",
    "    else:\n",
    "        net = ConvLSTMConfig(\n",
    "            embed=[],\n",
    "            recurrent=[ConvConfig(64, (1, 1), (1, 1), \"SAME\", True)],\n",
    "            repeats_per_step=1,\n",
    "            pool_and_inject=False,\n",
    "            add_one_to_forget=True,\n",
    "        )\n",
    "    NUM_ENVS = 64\n",
    "    if env == \"cartpole\":\n",
    "        env_cfg = CartPoleConfig(num_envs=NUM_ENVS, max_episode_steps=500)\n",
    "    else:\n",
    "        env_cfg = CartPoleNoVelConfig(num_envs=NUM_ENVS, max_episode_steps=500)\n",
    "\n",
    "    args = Args(\n",
    "        train_env=env_cfg,\n",
    "        eval_envs=dict(eval0=EvalConfig(env_cfg, steps_to_think=[0])),\n",
    "        net=net,\n",
    "        eval_frequency=100,\n",
    "        save_model=False,\n",
    "        log_frequency=100,\n",
    "        local_num_envs=NUM_ENVS,\n",
    "        num_actor_threads=1,\n",
    "        num_minibatches=4,\n",
    "        # If the whole thing deadlocks exit in some small multiple of 10 seconds\n",
    "        queue_timeout=60,\n",
    "        train_epochs=1,\n",
    "        learning_rate=0.0001,\n",
    "        total_timesteps=1000000,\n",
    "        max_grad_norm=1e-3,\n",
    "        base_fan_in=1,\n",
    "        optimizer=\"adam\",\n",
    "    )\n",
    "\n",
    "    tmpdir = tempfile.TemporaryDirectory()\n",
    "    tmpdir_path = Path(tmpdir.name)\n",
    "\n",
    "    # args.total_timesteps = args.num_steps * args.num_actor_threads * args.local_num_envs * args.eval_frequency\n",
    "    # assert args.total_timesteps < 20\n",
    "\n",
    "    # writer = CheckingWriter(\n",
    "    #     args, tmpdir_path, [\"eval0/00_episode_successes\", \"eval0/01_episode_successes\", \"eval1/02_episode_successes\"]\n",
    "    # )\n",
    "\n",
    "    os.environ[\"WANDB_ENTITY\"] = \"farai\"\n",
    "    os.environ[\"WANDB_JOB_NAME\"] = \"cartpole_vel\" if env == \"cartpole\" else \"cartpole_no_vel\"\n",
    "    os.environ[\"WANDB_PROJECT\"] = \"lp-cleanba\"\n",
    "    os.environ[\"WANDB_RUN_GROUP\"] = \"cartpole_vel_grp\" if env == \"cartpole\" else \"cartpole_no_vel_grp\"\n",
    "    writer = WandbWriter(args)\n",
    "    train(args, writer=writer)\n",
    "    print(\"Done training\")\n",
    "    wandb.finish()\n",
    "    return writer\n",
    "\n",
    "writer = train_cartpole_no_vel()"
   ]
  },
  {
   "cell_type": "code",
   "execution_count": null,
   "metadata": {},
   "outputs": [],
   "source": [
    "import wandb\n",
    "wandb.finish()"
   ]
  }
 ],
 "metadata": {
  "kernelspec": {
   "display_name": ".venv",
   "language": "python",
   "name": "python3"
  },
  "language_info": {
   "codemirror_mode": {
    "name": "ipython",
    "version": 3
   },
   "file_extension": ".py",
   "mimetype": "text/x-python",
   "name": "python",
   "nbconvert_exporter": "python",
   "pygments_lexer": "ipython3",
   "version": "3.11.7"
  }
 },
 "nbformat": 4,
 "nbformat_minor": 2
}
